{
 "cells": [
  {
   "cell_type": "markdown",
   "metadata": {},
   "source": [
    "## SYSTEMIQ Test\n",
    "### Candidate: Andres Barberan"
   ]
  },
  {
   "cell_type": "code",
   "execution_count": 1,
   "metadata": {},
   "outputs": [],
   "source": [
    "import pandas as pd\n",
    "import numpy as np\n",
    "import seaborn as sns\n",
    "import matplotlib.pyplot as plt\n",
    "import pingouin as pg\n",
    "from sklearn.linear_model import LinearRegression\n",
    "pd.options.mode.chained_assignment = None"
   ]
  },
  {
   "cell_type": "markdown",
   "metadata": {},
   "source": [
    "### Question Block A: Data cleaning & merging"
   ]
  },
  {
   "cell_type": "markdown",
   "metadata": {},
   "source": [
    "#### Question 1.a & b\n",
    "Please load the users and activity tables into Python.\n",
    "- How many variables are in the datasets?\n",
    "- How many observations are in the datasets?"
   ]
  },
  {
   "cell_type": "markdown",
   "metadata": {},
   "source": [
    "##### Create dataframes with data on csv files"
   ]
  },
  {
   "cell_type": "code",
   "execution_count": 2,
   "metadata": {},
   "outputs": [],
   "source": [
    "#Import csv files as dataframes\n",
    "users_df=pd.read_csv('SIQ_data_test/users.csv')\n",
    "activities_df=pd.read_csv('SIQ_data_test/activities.csv')"
   ]
  },
  {
   "cell_type": "markdown",
   "metadata": {},
   "source": [
    "##### Explore users_df dataframe"
   ]
  },
  {
   "cell_type": "code",
   "execution_count": 3,
   "metadata": {},
   "outputs": [
    {
     "data": {
      "text/plain": [
       "5"
      ]
     },
     "execution_count": 3,
     "metadata": {},
     "output_type": "execute_result"
    }
   ],
   "source": [
    "#Number of variables\n",
    "len(users_df.columns)"
   ]
  },
  {
   "cell_type": "code",
   "execution_count": 4,
   "metadata": {},
   "outputs": [
    {
     "data": {
      "text/plain": [
       "UserId     5807\n",
       "Country    5807\n",
       "DOB        5807\n",
       "Gender     5807\n",
       "RegDate    5807\n",
       "dtype: int64"
      ]
     },
     "execution_count": 4,
     "metadata": {},
     "output_type": "execute_result"
    }
   ],
   "source": [
    "#Number of observations by variable\n",
    "users_df.count()"
   ]
  },
  {
   "cell_type": "code",
   "execution_count": 5,
   "metadata": {},
   "outputs": [
    {
     "data": {
      "text/plain": [
       "UserId        0\n",
       "Country       0\n",
       "DOB           0\n",
       "Gender     1481\n",
       "RegDate       0\n",
       "dtype: int64"
      ]
     },
     "execution_count": 5,
     "metadata": {},
     "output_type": "execute_result"
    }
   ],
   "source": [
    "users_df.replace(' ', np.nan, inplace=True) \n",
    "users_df.isna().sum()"
   ]
  },
  {
   "cell_type": "markdown",
   "metadata": {},
   "source": [
    "##### Explore activities_df dataframe"
   ]
  },
  {
   "cell_type": "code",
   "execution_count": 6,
   "metadata": {},
   "outputs": [
    {
     "data": {
      "text/plain": [
       "3"
      ]
     },
     "execution_count": 6,
     "metadata": {},
     "output_type": "execute_result"
    }
   ],
   "source": [
    "#Number of variables\n",
    "len(activities_df.columns)"
   ]
  },
  {
   "cell_type": "code",
   "execution_count": 7,
   "metadata": {},
   "outputs": [
    {
     "data": {
      "text/plain": [
       "UserId     22642\n",
       "Date       22642\n",
       "Revenue    22642\n",
       "dtype: int64"
      ]
     },
     "execution_count": 7,
     "metadata": {},
     "output_type": "execute_result"
    }
   ],
   "source": [
    "#Number of observations by variable\n",
    "activities_df.count()"
   ]
  },
  {
   "cell_type": "code",
   "execution_count": 8,
   "metadata": {},
   "outputs": [
    {
     "data": {
      "text/plain": [
       "UserId     0\n",
       "Date       0\n",
       "Revenue    0\n",
       "dtype: int64"
      ]
     },
     "execution_count": 8,
     "metadata": {},
     "output_type": "execute_result"
    }
   ],
   "source": [
    "activities_df.replace(' ', np.nan, inplace=True) \n",
    "activities_df.isna().sum()"
   ]
  },
  {
   "cell_type": "markdown",
   "metadata": {},
   "source": [
    "##### From results above: \n",
    "-  **users_df** table has 5 different variables, each containing 5807 observations. However, column 'Gender' has 1481 out of the 5807 rows that where blank.\n",
    "- **activities_df** table has 3 different variables, each containing 22642 observations. There are no blanks rows in any of the columns.\n"
   ]
  },
  {
   "cell_type": "markdown",
   "metadata": {},
   "source": [
    "#### Question 2.a, b & c\n",
    "\n",
    "How many\n",
    "- Male users are in the dataset?\n",
    "- Female users are in the dataset?\n",
    "- For how many users is no gender information available?"
   ]
  },
  {
   "cell_type": "code",
   "execution_count": 9,
   "metadata": {},
   "outputs": [
    {
     "data": {
      "text/html": [
       "<div>\n",
       "<style scoped>\n",
       "    .dataframe tbody tr th:only-of-type {\n",
       "        vertical-align: middle;\n",
       "    }\n",
       "\n",
       "    .dataframe tbody tr th {\n",
       "        vertical-align: top;\n",
       "    }\n",
       "\n",
       "    .dataframe thead th {\n",
       "        text-align: right;\n",
       "    }\n",
       "</style>\n",
       "<table border=\"1\" class=\"dataframe\">\n",
       "  <thead>\n",
       "    <tr style=\"text-align: right;\">\n",
       "      <th></th>\n",
       "      <th>UserId</th>\n",
       "    </tr>\n",
       "    <tr>\n",
       "      <th>Gender</th>\n",
       "      <th></th>\n",
       "    </tr>\n",
       "  </thead>\n",
       "  <tbody>\n",
       "    <tr>\n",
       "      <th>F</th>\n",
       "      <td>1417</td>\n",
       "    </tr>\n",
       "    <tr>\n",
       "      <th>M</th>\n",
       "      <td>2909</td>\n",
       "    </tr>\n",
       "    <tr>\n",
       "      <th>No information</th>\n",
       "      <td>1481</td>\n",
       "    </tr>\n",
       "  </tbody>\n",
       "</table>\n",
       "</div>"
      ],
      "text/plain": [
       "                UserId\n",
       "Gender                \n",
       "F                 1417\n",
       "M                 2909\n",
       "No information    1481"
      ]
     },
     "execution_count": 9,
     "metadata": {},
     "output_type": "execute_result"
    }
   ],
   "source": [
    "users_df['Gender'].replace(np.nan,'No information', inplace=True) \n",
    "table = pd.pivot_table(data=users_df,index=['Gender'],aggfunc={'UserId':'nunique'})\n",
    "table"
   ]
  },
  {
   "cell_type": "markdown",
   "metadata": {},
   "source": [
    "##### From results above: \n",
    "-  There are **1417** women, **2909** men and **1481** users with no gender information available in the dataset.\n"
   ]
  },
  {
   "cell_type": "markdown",
   "metadata": {},
   "source": [
    "#### Questions 3 and 4\n",
    "\n",
    "- Merge the two datasets and calculate the days since registration for each activity. What is the total mean and median revenue generated per user (ie across all activities)? How do you interpret the result?\n",
    "- Please visualise the distribution of the revenues by user.\n"
   ]
  },
  {
   "cell_type": "markdown",
   "metadata": {},
   "source": [
    "I first merge the two dataframes using the column \"UserId\" as key. For this, I also consider the users with no gender information as Male."
   ]
  },
  {
   "cell_type": "code",
   "execution_count": 10,
   "metadata": {},
   "outputs": [
    {
     "data": {
      "text/html": [
       "<div>\n",
       "<style scoped>\n",
       "    .dataframe tbody tr th:only-of-type {\n",
       "        vertical-align: middle;\n",
       "    }\n",
       "\n",
       "    .dataframe tbody tr th {\n",
       "        vertical-align: top;\n",
       "    }\n",
       "\n",
       "    .dataframe thead th {\n",
       "        text-align: right;\n",
       "    }\n",
       "</style>\n",
       "<table border=\"1\" class=\"dataframe\">\n",
       "  <thead>\n",
       "    <tr style=\"text-align: right;\">\n",
       "      <th></th>\n",
       "      <th>UserId</th>\n",
       "      <th>Date</th>\n",
       "      <th>Revenue</th>\n",
       "      <th>Country</th>\n",
       "      <th>DOB</th>\n",
       "      <th>Gender</th>\n",
       "      <th>RegDate</th>\n",
       "    </tr>\n",
       "  </thead>\n",
       "  <tbody>\n",
       "    <tr>\n",
       "      <th>0</th>\n",
       "      <td>1326865</td>\n",
       "      <td>2017-02-19</td>\n",
       "      <td>17.05</td>\n",
       "      <td>DE</td>\n",
       "      <td>1988-05-04</td>\n",
       "      <td>M</td>\n",
       "      <td>2016-03-24</td>\n",
       "    </tr>\n",
       "    <tr>\n",
       "      <th>1</th>\n",
       "      <td>1326865</td>\n",
       "      <td>2017-02-28</td>\n",
       "      <td>17.05</td>\n",
       "      <td>DE</td>\n",
       "      <td>1988-05-04</td>\n",
       "      <td>M</td>\n",
       "      <td>2016-03-24</td>\n",
       "    </tr>\n",
       "    <tr>\n",
       "      <th>2</th>\n",
       "      <td>1326865</td>\n",
       "      <td>2017-03-06</td>\n",
       "      <td>17.16</td>\n",
       "      <td>DE</td>\n",
       "      <td>1988-05-04</td>\n",
       "      <td>M</td>\n",
       "      <td>2016-03-24</td>\n",
       "    </tr>\n",
       "    <tr>\n",
       "      <th>3</th>\n",
       "      <td>1326865</td>\n",
       "      <td>2017-03-07</td>\n",
       "      <td>17.16</td>\n",
       "      <td>DE</td>\n",
       "      <td>1988-05-04</td>\n",
       "      <td>M</td>\n",
       "      <td>2016-03-24</td>\n",
       "    </tr>\n",
       "    <tr>\n",
       "      <th>4</th>\n",
       "      <td>1326865</td>\n",
       "      <td>2017-03-08</td>\n",
       "      <td>17.16</td>\n",
       "      <td>DE</td>\n",
       "      <td>1988-05-04</td>\n",
       "      <td>M</td>\n",
       "      <td>2016-03-24</td>\n",
       "    </tr>\n",
       "    <tr>\n",
       "      <th>...</th>\n",
       "      <td>...</td>\n",
       "      <td>...</td>\n",
       "      <td>...</td>\n",
       "      <td>...</td>\n",
       "      <td>...</td>\n",
       "      <td>...</td>\n",
       "      <td>...</td>\n",
       "    </tr>\n",
       "    <tr>\n",
       "      <th>22647</th>\n",
       "      <td>3228231</td>\n",
       "      <td>NaN</td>\n",
       "      <td>NaN</td>\n",
       "      <td>GB</td>\n",
       "      <td>1985-08-24</td>\n",
       "      <td>F</td>\n",
       "      <td>2016-12-26</td>\n",
       "    </tr>\n",
       "    <tr>\n",
       "      <th>22648</th>\n",
       "      <td>3248027</td>\n",
       "      <td>NaN</td>\n",
       "      <td>NaN</td>\n",
       "      <td>GB</td>\n",
       "      <td>1966-09-15</td>\n",
       "      <td>M</td>\n",
       "      <td>2017-04-27</td>\n",
       "    </tr>\n",
       "    <tr>\n",
       "      <th>22649</th>\n",
       "      <td>3330595</td>\n",
       "      <td>NaN</td>\n",
       "      <td>NaN</td>\n",
       "      <td>GB</td>\n",
       "      <td>1996-04-01</td>\n",
       "      <td>M</td>\n",
       "      <td>2017-05-05</td>\n",
       "    </tr>\n",
       "    <tr>\n",
       "      <th>22650</th>\n",
       "      <td>3341993</td>\n",
       "      <td>NaN</td>\n",
       "      <td>NaN</td>\n",
       "      <td>GB</td>\n",
       "      <td>1975-05-29</td>\n",
       "      <td>M</td>\n",
       "      <td>2017-03-20</td>\n",
       "    </tr>\n",
       "    <tr>\n",
       "      <th>22651</th>\n",
       "      <td>3346950</td>\n",
       "      <td>NaN</td>\n",
       "      <td>NaN</td>\n",
       "      <td>GB</td>\n",
       "      <td>1982-12-25</td>\n",
       "      <td>F</td>\n",
       "      <td>2016-12-05</td>\n",
       "    </tr>\n",
       "  </tbody>\n",
       "</table>\n",
       "<p>22652 rows × 7 columns</p>\n",
       "</div>"
      ],
      "text/plain": [
       "        UserId        Date  Revenue Country         DOB Gender     RegDate\n",
       "0      1326865  2017-02-19    17.05      DE  1988-05-04      M  2016-03-24\n",
       "1      1326865  2017-02-28    17.05      DE  1988-05-04      M  2016-03-24\n",
       "2      1326865  2017-03-06    17.16      DE  1988-05-04      M  2016-03-24\n",
       "3      1326865  2017-03-07    17.16      DE  1988-05-04      M  2016-03-24\n",
       "4      1326865  2017-03-08    17.16      DE  1988-05-04      M  2016-03-24\n",
       "...        ...         ...      ...     ...         ...    ...         ...\n",
       "22647  3228231         NaN      NaN      GB  1985-08-24      F  2016-12-26\n",
       "22648  3248027         NaN      NaN      GB  1966-09-15      M  2017-04-27\n",
       "22649  3330595         NaN      NaN      GB  1996-04-01      M  2017-05-05\n",
       "22650  3341993         NaN      NaN      GB  1975-05-29      M  2017-03-20\n",
       "22651  3346950         NaN      NaN      GB  1982-12-25      F  2016-12-05\n",
       "\n",
       "[22652 rows x 7 columns]"
      ]
     },
     "execution_count": 10,
     "metadata": {},
     "output_type": "execute_result"
    }
   ],
   "source": [
    "users_df['Gender'].replace('No information','M', inplace=True) \n",
    "merged_df = pd.merge(activities_df, users_df, how=\"outer\", on=[\"UserId\"])\n",
    "merged_df"
   ]
  },
  {
   "cell_type": "markdown",
   "metadata": {},
   "source": [
    "I now calculate the days since registration for each activity. There are users that did not perform any activity since registering, so I will remove those for the next calculations.\n"
   ]
  },
  {
   "cell_type": "code",
   "execution_count": 11,
   "metadata": {},
   "outputs": [
    {
     "data": {
      "text/html": [
       "<div>\n",
       "<style scoped>\n",
       "    .dataframe tbody tr th:only-of-type {\n",
       "        vertical-align: middle;\n",
       "    }\n",
       "\n",
       "    .dataframe tbody tr th {\n",
       "        vertical-align: top;\n",
       "    }\n",
       "\n",
       "    .dataframe thead th {\n",
       "        text-align: right;\n",
       "    }\n",
       "</style>\n",
       "<table border=\"1\" class=\"dataframe\">\n",
       "  <thead>\n",
       "    <tr style=\"text-align: right;\">\n",
       "      <th></th>\n",
       "      <th>UserId</th>\n",
       "      <th>Date</th>\n",
       "      <th>Revenue</th>\n",
       "      <th>Country</th>\n",
       "      <th>DOB</th>\n",
       "      <th>Gender</th>\n",
       "      <th>RegDate</th>\n",
       "      <th>days_since_reg</th>\n",
       "    </tr>\n",
       "  </thead>\n",
       "  <tbody>\n",
       "    <tr>\n",
       "      <th>0</th>\n",
       "      <td>1326865</td>\n",
       "      <td>2017-02-19</td>\n",
       "      <td>17.05</td>\n",
       "      <td>DE</td>\n",
       "      <td>1988-05-04</td>\n",
       "      <td>M</td>\n",
       "      <td>2016-03-24</td>\n",
       "      <td>332</td>\n",
       "    </tr>\n",
       "    <tr>\n",
       "      <th>1</th>\n",
       "      <td>1326865</td>\n",
       "      <td>2017-02-28</td>\n",
       "      <td>17.05</td>\n",
       "      <td>DE</td>\n",
       "      <td>1988-05-04</td>\n",
       "      <td>M</td>\n",
       "      <td>2016-03-24</td>\n",
       "      <td>341</td>\n",
       "    </tr>\n",
       "    <tr>\n",
       "      <th>2</th>\n",
       "      <td>1326865</td>\n",
       "      <td>2017-03-06</td>\n",
       "      <td>17.16</td>\n",
       "      <td>DE</td>\n",
       "      <td>1988-05-04</td>\n",
       "      <td>M</td>\n",
       "      <td>2016-03-24</td>\n",
       "      <td>347</td>\n",
       "    </tr>\n",
       "    <tr>\n",
       "      <th>3</th>\n",
       "      <td>1326865</td>\n",
       "      <td>2017-03-07</td>\n",
       "      <td>17.16</td>\n",
       "      <td>DE</td>\n",
       "      <td>1988-05-04</td>\n",
       "      <td>M</td>\n",
       "      <td>2016-03-24</td>\n",
       "      <td>348</td>\n",
       "    </tr>\n",
       "    <tr>\n",
       "      <th>4</th>\n",
       "      <td>1326865</td>\n",
       "      <td>2017-03-08</td>\n",
       "      <td>17.16</td>\n",
       "      <td>DE</td>\n",
       "      <td>1988-05-04</td>\n",
       "      <td>M</td>\n",
       "      <td>2016-03-24</td>\n",
       "      <td>349</td>\n",
       "    </tr>\n",
       "  </tbody>\n",
       "</table>\n",
       "</div>"
      ],
      "text/plain": [
       "    UserId       Date  Revenue Country         DOB Gender    RegDate  \\\n",
       "0  1326865 2017-02-19    17.05      DE  1988-05-04      M 2016-03-24   \n",
       "1  1326865 2017-02-28    17.05      DE  1988-05-04      M 2016-03-24   \n",
       "2  1326865 2017-03-06    17.16      DE  1988-05-04      M 2016-03-24   \n",
       "3  1326865 2017-03-07    17.16      DE  1988-05-04      M 2016-03-24   \n",
       "4  1326865 2017-03-08    17.16      DE  1988-05-04      M 2016-03-24   \n",
       "\n",
       "   days_since_reg  \n",
       "0             332  \n",
       "1             341  \n",
       "2             347  \n",
       "3             348  \n",
       "4             349  "
      ]
     },
     "execution_count": 11,
     "metadata": {},
     "output_type": "execute_result"
    }
   ],
   "source": [
    "merged_df=merged_df.dropna()\n",
    "merged_df[['Date','RegDate']] = merged_df[['Date','RegDate']].apply(pd.to_datetime) #if conversion required\n",
    "merged_df['days_since_reg'] = (merged_df['Date'] - merged_df['RegDate']).dt.days\n",
    "merged_df.head()"
   ]
  },
  {
   "cell_type": "markdown",
   "metadata": {},
   "source": [
    "What is the total mean and median revenue generated per user (ie across all activities)?\n"
   ]
  },
  {
   "cell_type": "code",
   "execution_count": 12,
   "metadata": {},
   "outputs": [
    {
     "name": "stdout",
     "output_type": "stream",
     "text": [
      "Total revenue:2972067.5\n",
      "Mean revenue:131.3\n",
      "Median revenue:40.0\n"
     ]
    }
   ],
   "source": [
    "total_revenue=round(merged_df['Revenue'].sum(),1)\n",
    "print(f'Total revenue:{total_revenue}')\n",
    "mean_revenue=round(merged_df['Revenue'].mean(),1)\n",
    "print(f'Mean revenue:{mean_revenue}')\n",
    "median_revenue=round(merged_df['Revenue'].median(),1)\n",
    "print(f'Median revenue:{median_revenue}')"
   ]
  },
  {
   "cell_type": "markdown",
   "metadata": {},
   "source": [
    "The mean revenue for the whole data is more than three times higher that the median. This suggests that the data counts on outliers, that is, few users who generated a very high revenue in comparison to the rest during certain activities/times."
   ]
  },
  {
   "cell_type": "code",
   "execution_count": 13,
   "metadata": {},
   "outputs": [
    {
     "data": {
      "text/html": [
       "<div>\n",
       "<style scoped>\n",
       "    .dataframe tbody tr th:only-of-type {\n",
       "        vertical-align: middle;\n",
       "    }\n",
       "\n",
       "    .dataframe tbody tr th {\n",
       "        vertical-align: top;\n",
       "    }\n",
       "\n",
       "    .dataframe thead th {\n",
       "        text-align: right;\n",
       "    }\n",
       "</style>\n",
       "<table border=\"1\" class=\"dataframe\">\n",
       "  <thead>\n",
       "    <tr style=\"text-align: right;\">\n",
       "      <th></th>\n",
       "      <th>sum</th>\n",
       "      <th>mean</th>\n",
       "      <th>median</th>\n",
       "    </tr>\n",
       "    <tr>\n",
       "      <th>UserId</th>\n",
       "      <th></th>\n",
       "      <th></th>\n",
       "      <th></th>\n",
       "    </tr>\n",
       "  </thead>\n",
       "  <tbody>\n",
       "    <tr>\n",
       "      <th>1326865</th>\n",
       "      <td>351.42</td>\n",
       "      <td>18.495789</td>\n",
       "      <td>17.160</td>\n",
       "    </tr>\n",
       "    <tr>\n",
       "      <th>1333278</th>\n",
       "      <td>45.00</td>\n",
       "      <td>22.500000</td>\n",
       "      <td>22.500</td>\n",
       "    </tr>\n",
       "    <tr>\n",
       "      <th>1336967</th>\n",
       "      <td>20.00</td>\n",
       "      <td>20.000000</td>\n",
       "      <td>20.000</td>\n",
       "    </tr>\n",
       "    <tr>\n",
       "      <th>1339784</th>\n",
       "      <td>59.28</td>\n",
       "      <td>29.640000</td>\n",
       "      <td>29.640</td>\n",
       "    </tr>\n",
       "    <tr>\n",
       "      <th>1339829</th>\n",
       "      <td>17.05</td>\n",
       "      <td>17.050000</td>\n",
       "      <td>17.050</td>\n",
       "    </tr>\n",
       "    <tr>\n",
       "      <th>1346806</th>\n",
       "      <td>17.05</td>\n",
       "      <td>17.050000</td>\n",
       "      <td>17.050</td>\n",
       "    </tr>\n",
       "    <tr>\n",
       "      <th>1361182</th>\n",
       "      <td>100.00</td>\n",
       "      <td>20.000000</td>\n",
       "      <td>20.000</td>\n",
       "    </tr>\n",
       "    <tr>\n",
       "      <th>1392534</th>\n",
       "      <td>46.90</td>\n",
       "      <td>46.900000</td>\n",
       "      <td>46.900</td>\n",
       "    </tr>\n",
       "    <tr>\n",
       "      <th>1405503</th>\n",
       "      <td>43.21</td>\n",
       "      <td>21.605000</td>\n",
       "      <td>21.605</td>\n",
       "    </tr>\n",
       "    <tr>\n",
       "      <th>1415290</th>\n",
       "      <td>150.00</td>\n",
       "      <td>25.000000</td>\n",
       "      <td>20.000</td>\n",
       "    </tr>\n",
       "    <tr>\n",
       "      <th>1417297</th>\n",
       "      <td>11.68</td>\n",
       "      <td>11.680000</td>\n",
       "      <td>11.680</td>\n",
       "    </tr>\n",
       "    <tr>\n",
       "      <th>1494447</th>\n",
       "      <td>20.00</td>\n",
       "      <td>20.000000</td>\n",
       "      <td>20.000</td>\n",
       "    </tr>\n",
       "    <tr>\n",
       "      <th>1610096</th>\n",
       "      <td>150.00</td>\n",
       "      <td>75.000000</td>\n",
       "      <td>75.000</td>\n",
       "    </tr>\n",
       "    <tr>\n",
       "      <th>1617757</th>\n",
       "      <td>23.32</td>\n",
       "      <td>11.660000</td>\n",
       "      <td>11.660</td>\n",
       "    </tr>\n",
       "    <tr>\n",
       "      <th>1618208</th>\n",
       "      <td>21.32</td>\n",
       "      <td>21.320000</td>\n",
       "      <td>21.320</td>\n",
       "    </tr>\n",
       "    <tr>\n",
       "      <th>1629211</th>\n",
       "      <td>4229.30</td>\n",
       "      <td>82.927451</td>\n",
       "      <td>50.000</td>\n",
       "    </tr>\n",
       "    <tr>\n",
       "      <th>1632830</th>\n",
       "      <td>20.00</td>\n",
       "      <td>20.000000</td>\n",
       "      <td>20.000</td>\n",
       "    </tr>\n",
       "    <tr>\n",
       "      <th>1694925</th>\n",
       "      <td>140.00</td>\n",
       "      <td>20.000000</td>\n",
       "      <td>20.000</td>\n",
       "    </tr>\n",
       "    <tr>\n",
       "      <th>1708806</th>\n",
       "      <td>80.00</td>\n",
       "      <td>20.000000</td>\n",
       "      <td>20.000</td>\n",
       "    </tr>\n",
       "    <tr>\n",
       "      <th>1728899</th>\n",
       "      <td>42.13</td>\n",
       "      <td>14.043333</td>\n",
       "      <td>12.400</td>\n",
       "    </tr>\n",
       "    <tr>\n",
       "      <th>1729986</th>\n",
       "      <td>120.00</td>\n",
       "      <td>60.000000</td>\n",
       "      <td>60.000</td>\n",
       "    </tr>\n",
       "    <tr>\n",
       "      <th>1734610</th>\n",
       "      <td>205.00</td>\n",
       "      <td>102.500000</td>\n",
       "      <td>102.500</td>\n",
       "    </tr>\n",
       "    <tr>\n",
       "      <th>1738641</th>\n",
       "      <td>100.00</td>\n",
       "      <td>33.333333</td>\n",
       "      <td>40.000</td>\n",
       "    </tr>\n",
       "    <tr>\n",
       "      <th>1781700</th>\n",
       "      <td>29.19</td>\n",
       "      <td>29.190000</td>\n",
       "      <td>29.190</td>\n",
       "    </tr>\n",
       "    <tr>\n",
       "      <th>1784259</th>\n",
       "      <td>18.10</td>\n",
       "      <td>18.100000</td>\n",
       "      <td>18.100</td>\n",
       "    </tr>\n",
       "  </tbody>\n",
       "</table>\n",
       "</div>"
      ],
      "text/plain": [
       "             sum        mean   median\n",
       "UserId                               \n",
       "1326865   351.42   18.495789   17.160\n",
       "1333278    45.00   22.500000   22.500\n",
       "1336967    20.00   20.000000   20.000\n",
       "1339784    59.28   29.640000   29.640\n",
       "1339829    17.05   17.050000   17.050\n",
       "1346806    17.05   17.050000   17.050\n",
       "1361182   100.00   20.000000   20.000\n",
       "1392534    46.90   46.900000   46.900\n",
       "1405503    43.21   21.605000   21.605\n",
       "1415290   150.00   25.000000   20.000\n",
       "1417297    11.68   11.680000   11.680\n",
       "1494447    20.00   20.000000   20.000\n",
       "1610096   150.00   75.000000   75.000\n",
       "1617757    23.32   11.660000   11.660\n",
       "1618208    21.32   21.320000   21.320\n",
       "1629211  4229.30   82.927451   50.000\n",
       "1632830    20.00   20.000000   20.000\n",
       "1694925   140.00   20.000000   20.000\n",
       "1708806    80.00   20.000000   20.000\n",
       "1728899    42.13   14.043333   12.400\n",
       "1729986   120.00   60.000000   60.000\n",
       "1734610   205.00  102.500000  102.500\n",
       "1738641   100.00   33.333333   40.000\n",
       "1781700    29.19   29.190000   29.190\n",
       "1784259    18.10   18.100000   18.100"
      ]
     },
     "execution_count": 13,
     "metadata": {},
     "output_type": "execute_result"
    }
   ],
   "source": [
    "stats_merged_df = merged_df.groupby(['UserId'])['Revenue'].agg(['sum','mean','median'])\n",
    "stats_merged_df.head(25)"
   ]
  },
  {
   "cell_type": "code",
   "execution_count": 14,
   "metadata": {},
   "outputs": [
    {
     "data": {
      "image/png": "[encoded data removed]",
      "text/plain": [
       "<Figure size 360x576 with 1 Axes>"
      ]
     },
     "metadata": {},
     "output_type": "display_data"
    }
   ],
   "source": [
    "sns.set(rc={\"figure.figsize\": (5, 8)})\n",
    "sns.set_style(\"ticks\")\n",
    "sns.set_context(\"talk\")\n",
    "sns.despine(bottom=False)\n",
    "sns.boxplot(y=stats_merged_df['sum']).set_title('Total revenue per UserId')\n",
    "plt.show()"
   ]
  },
  {
   "cell_type": "markdown",
   "metadata": {},
   "source": [
    "We can confirm what was stated above about outliers, by taking a look at the box plot for the data.\n",
    "Given this outliers, it is more convenient to visualize total revenue distribution in logaritmic scale, as shown on the histogram below."
   ]
  },
  {
   "cell_type": "code",
   "execution_count": 15,
   "metadata": {},
   "outputs": [
    {
     "data": {
      "image/png": "[encoded data removed]",
      "text/plain": [
       "<Figure size 720x576 with 1 Axes>"
      ]
     },
     "metadata": {},
     "output_type": "display_data"
    }
   ],
   "source": [
    "plt.figure(figsize=[10,8])\n",
    "n, bins, patches = plt.hist(x=stats_merged_df['sum'], bins=10, color='#0504aa',alpha=0.7,log=True,edgecolor='black')\n",
    "plt.grid(axis='y', alpha=0.75)\n",
    "plt.xlabel('Revenue',fontsize=15)\n",
    "plt.ylabel('Frequency',fontsize=15)\n",
    "plt.xticks(fontsize=15)\n",
    "plt.yticks(fontsize=15)\n",
    "plt.ylabel('Frequency',fontsize=15)\n",
    "plt.title('Total revenue per UserId',fontsize=15)\n",
    "plt.show()"
   ]
  },
  {
   "cell_type": "markdown",
   "metadata": {},
   "source": [
    "#### Question 5\n",
    "- What is the average week 1 revenue, ie the revenue generated by the user in their first week (ie within the first 7 days since registration)?\n"
   ]
  },
  {
   "cell_type": "code",
   "execution_count": 16,
   "metadata": {},
   "outputs": [
    {
     "data": {
      "text/html": [
       "<div>\n",
       "<style scoped>\n",
       "    .dataframe tbody tr th:only-of-type {\n",
       "        vertical-align: middle;\n",
       "    }\n",
       "\n",
       "    .dataframe tbody tr th {\n",
       "        vertical-align: top;\n",
       "    }\n",
       "\n",
       "    .dataframe thead th {\n",
       "        text-align: right;\n",
       "    }\n",
       "</style>\n",
       "<table border=\"1\" class=\"dataframe\">\n",
       "  <thead>\n",
       "    <tr style=\"text-align: right;\">\n",
       "      <th></th>\n",
       "      <th>UserId</th>\n",
       "      <th>Date</th>\n",
       "      <th>Revenue</th>\n",
       "      <th>Country</th>\n",
       "      <th>DOB</th>\n",
       "      <th>Gender</th>\n",
       "      <th>RegDate</th>\n",
       "      <th>days_since_reg</th>\n",
       "    </tr>\n",
       "  </thead>\n",
       "  <tbody>\n",
       "    <tr>\n",
       "      <th>1642</th>\n",
       "      <td>3109386</td>\n",
       "      <td>2017-03-03</td>\n",
       "      <td>20.00</td>\n",
       "      <td>GB</td>\n",
       "      <td>1986-05-16</td>\n",
       "      <td>F</td>\n",
       "      <td>2017-02-26</td>\n",
       "      <td>5</td>\n",
       "    </tr>\n",
       "    <tr>\n",
       "      <th>1647</th>\n",
       "      <td>3114216</td>\n",
       "      <td>2017-01-29</td>\n",
       "      <td>29.19</td>\n",
       "      <td>Other</td>\n",
       "      <td>1978-09-02</td>\n",
       "      <td>M</td>\n",
       "      <td>2017-01-23</td>\n",
       "      <td>6</td>\n",
       "    </tr>\n",
       "    <tr>\n",
       "      <th>1652</th>\n",
       "      <td>3114891</td>\n",
       "      <td>2017-01-19</td>\n",
       "      <td>20.00</td>\n",
       "      <td>GB</td>\n",
       "      <td>1968-03-23</td>\n",
       "      <td>M</td>\n",
       "      <td>2017-01-16</td>\n",
       "      <td>3</td>\n",
       "    </tr>\n",
       "    <tr>\n",
       "      <th>1654</th>\n",
       "      <td>3115043</td>\n",
       "      <td>2016-10-22</td>\n",
       "      <td>17.05</td>\n",
       "      <td>US</td>\n",
       "      <td>1985-11-01</td>\n",
       "      <td>F</td>\n",
       "      <td>2016-10-17</td>\n",
       "      <td>5</td>\n",
       "    </tr>\n",
       "    <tr>\n",
       "      <th>1658</th>\n",
       "      <td>3115226</td>\n",
       "      <td>2016-12-04</td>\n",
       "      <td>25.00</td>\n",
       "      <td>GB</td>\n",
       "      <td>1967-07-04</td>\n",
       "      <td>M</td>\n",
       "      <td>2016-11-29</td>\n",
       "      <td>5</td>\n",
       "    </tr>\n",
       "    <tr>\n",
       "      <th>...</th>\n",
       "      <td>...</td>\n",
       "      <td>...</td>\n",
       "      <td>...</td>\n",
       "      <td>...</td>\n",
       "      <td>...</td>\n",
       "      <td>...</td>\n",
       "      <td>...</td>\n",
       "      <td>...</td>\n",
       "    </tr>\n",
       "    <tr>\n",
       "      <th>22633</th>\n",
       "      <td>3347222</td>\n",
       "      <td>2017-03-23</td>\n",
       "      <td>19.28</td>\n",
       "      <td>FR</td>\n",
       "      <td>1967-05-25</td>\n",
       "      <td>M</td>\n",
       "      <td>2017-03-22</td>\n",
       "      <td>1</td>\n",
       "    </tr>\n",
       "    <tr>\n",
       "      <th>22638</th>\n",
       "      <td>3347251</td>\n",
       "      <td>2017-04-03</td>\n",
       "      <td>30.00</td>\n",
       "      <td>GB</td>\n",
       "      <td>1981-06-11</td>\n",
       "      <td>F</td>\n",
       "      <td>2017-04-03</td>\n",
       "      <td>0</td>\n",
       "    </tr>\n",
       "    <tr>\n",
       "      <th>22639</th>\n",
       "      <td>3347333</td>\n",
       "      <td>2017-01-27</td>\n",
       "      <td>30.00</td>\n",
       "      <td>GB</td>\n",
       "      <td>1987-11-22</td>\n",
       "      <td>M</td>\n",
       "      <td>2017-01-27</td>\n",
       "      <td>0</td>\n",
       "    </tr>\n",
       "    <tr>\n",
       "      <th>22640</th>\n",
       "      <td>3347367</td>\n",
       "      <td>2017-04-04</td>\n",
       "      <td>17.05</td>\n",
       "      <td>US</td>\n",
       "      <td>1995-08-09</td>\n",
       "      <td>F</td>\n",
       "      <td>2017-04-04</td>\n",
       "      <td>0</td>\n",
       "    </tr>\n",
       "    <tr>\n",
       "      <th>22641</th>\n",
       "      <td>3347450</td>\n",
       "      <td>2017-04-21</td>\n",
       "      <td>42.63</td>\n",
       "      <td>US</td>\n",
       "      <td>1994-07-30</td>\n",
       "      <td>M</td>\n",
       "      <td>2017-04-21</td>\n",
       "      <td>0</td>\n",
       "    </tr>\n",
       "  </tbody>\n",
       "</table>\n",
       "<p>7345 rows × 8 columns</p>\n",
       "</div>"
      ],
      "text/plain": [
       "        UserId       Date  Revenue Country         DOB Gender    RegDate  \\\n",
       "1642   3109386 2017-03-03    20.00      GB  1986-05-16      F 2017-02-26   \n",
       "1647   3114216 2017-01-29    29.19   Other  1978-09-02      M 2017-01-23   \n",
       "1652   3114891 2017-01-19    20.00      GB  1968-03-23      M 2017-01-16   \n",
       "1654   3115043 2016-10-22    17.05      US  1985-11-01      F 2016-10-17   \n",
       "1658   3115226 2016-12-04    25.00      GB  1967-07-04      M 2016-11-29   \n",
       "...        ...        ...      ...     ...         ...    ...        ...   \n",
       "22633  3347222 2017-03-23    19.28      FR  1967-05-25      M 2017-03-22   \n",
       "22638  3347251 2017-04-03    30.00      GB  1981-06-11      F 2017-04-03   \n",
       "22639  3347333 2017-01-27    30.00      GB  1987-11-22      M 2017-01-27   \n",
       "22640  3347367 2017-04-04    17.05      US  1995-08-09      F 2017-04-04   \n",
       "22641  3347450 2017-04-21    42.63      US  1994-07-30      M 2017-04-21   \n",
       "\n",
       "       days_since_reg  \n",
       "1642                5  \n",
       "1647                6  \n",
       "1652                3  \n",
       "1654                5  \n",
       "1658                5  \n",
       "...               ...  \n",
       "22633               1  \n",
       "22638               0  \n",
       "22639               0  \n",
       "22640               0  \n",
       "22641               0  \n",
       "\n",
       "[7345 rows x 8 columns]"
      ]
     },
     "execution_count": 16,
     "metadata": {},
     "output_type": "execute_result"
    }
   ],
   "source": [
    "merged_df_first_week=merged_df[merged_df['days_since_reg']<7]\n",
    "merged_df_first_week"
   ]
  },
  {
   "cell_type": "code",
   "execution_count": 17,
   "metadata": {},
   "outputs": [
    {
     "name": "stdout",
     "output_type": "stream",
     "text": [
      "Total revenue for the first week:964290.7\n",
      "Mean revenue for the first week:131.3\n",
      "Median revenue for the first week:42.6\n"
     ]
    }
   ],
   "source": [
    "total_revenue_first_week=round(merged_df_first_week['Revenue'].sum(),1)\n",
    "print(f'Total revenue for the first week:{total_revenue_first_week}')\n",
    "mean_revenue_first_week=round(merged_df_first_week['Revenue'].mean(),1)\n",
    "print(f'Mean revenue for the first week:{mean_revenue_first_week}')\n",
    "median_revenue_first_week=round(merged_df_first_week['Revenue'].median(),1)\n",
    "print(f'Median revenue for the first week:{median_revenue_first_week}')"
   ]
  },
  {
   "cell_type": "markdown",
   "metadata": {},
   "source": [
    "### Question Block B: Analytics"
   ]
  },
  {
   "cell_type": "markdown",
   "metadata": {},
   "source": [
    "#### Question 6\n",
    "- In this dataset men generated a higher week 1 revenue than women, on average.  Is this difference in revenue between men and women statistically significant? What is an appropriate statistical test to determine this and what is it’s p-value?"
   ]
  },
  {
   "cell_type": "markdown",
   "metadata": {},
   "source": [
    "In order to determine wether the difference in means is statistically significant, p-value can be calculated using an appropriate test for the data.\n",
    "As we could see in the previous data histogram, the data does not seem to have a normal distribution and for that reason, a T test could lead to non reliable results. For these type of distribution, a test called Mann-Whitney U Test can be applied, which does not make assumptions about the type of distribution of the data.\n",
    "To apply this test, I first split the data in two dataframes: one corresponding to male and other corresponding to female observations."
   ]
  },
  {
   "cell_type": "code",
   "execution_count": 18,
   "metadata": {},
   "outputs": [],
   "source": [
    "revenue_df=merged_df_first_week[['Revenue','Gender','Country']]"
   ]
  },
  {
   "cell_type": "code",
   "execution_count": 19,
   "metadata": {},
   "outputs": [
    {
     "data": {
      "text/html": [
       "<div>\n",
       "<style scoped>\n",
       "    .dataframe tbody tr th:only-of-type {\n",
       "        vertical-align: middle;\n",
       "    }\n",
       "\n",
       "    .dataframe tbody tr th {\n",
       "        vertical-align: top;\n",
       "    }\n",
       "\n",
       "    .dataframe thead tr th {\n",
       "        text-align: left;\n",
       "    }\n",
       "\n",
       "    .dataframe thead tr:last-of-type th {\n",
       "        text-align: right;\n",
       "    }\n",
       "</style>\n",
       "<table border=\"1\" class=\"dataframe\">\n",
       "  <thead>\n",
       "    <tr>\n",
       "      <th></th>\n",
       "      <th colspan=\"8\" halign=\"left\">Revenue</th>\n",
       "    </tr>\n",
       "    <tr>\n",
       "      <th></th>\n",
       "      <th>count</th>\n",
       "      <th>mean</th>\n",
       "      <th>std</th>\n",
       "      <th>min</th>\n",
       "      <th>25%</th>\n",
       "      <th>50%</th>\n",
       "      <th>75%</th>\n",
       "      <th>max</th>\n",
       "    </tr>\n",
       "    <tr>\n",
       "      <th>Gender</th>\n",
       "      <th></th>\n",
       "      <th></th>\n",
       "      <th></th>\n",
       "      <th></th>\n",
       "      <th></th>\n",
       "      <th></th>\n",
       "      <th></th>\n",
       "      <th></th>\n",
       "    </tr>\n",
       "  </thead>\n",
       "  <tbody>\n",
       "    <tr>\n",
       "      <th>F</th>\n",
       "      <td>1769.0</td>\n",
       "      <td>112.653657</td>\n",
       "      <td>370.516334</td>\n",
       "      <td>11.23</td>\n",
       "      <td>20.0</td>\n",
       "      <td>40.00</td>\n",
       "      <td>93.79</td>\n",
       "      <td>10200.0</td>\n",
       "    </tr>\n",
       "    <tr>\n",
       "      <th>M</th>\n",
       "      <td>5576.0</td>\n",
       "      <td>137.196272</td>\n",
       "      <td>396.806924</td>\n",
       "      <td>11.23</td>\n",
       "      <td>20.0</td>\n",
       "      <td>42.63</td>\n",
       "      <td>100.00</td>\n",
       "      <td>11000.0</td>\n",
       "    </tr>\n",
       "  </tbody>\n",
       "</table>\n",
       "</div>"
      ],
      "text/plain": [
       "       Revenue                                                             \n",
       "         count        mean         std    min   25%    50%     75%      max\n",
       "Gender                                                                     \n",
       "F       1769.0  112.653657  370.516334  11.23  20.0  40.00   93.79  10200.0\n",
       "M       5576.0  137.196272  396.806924  11.23  20.0  42.63  100.00  11000.0"
      ]
     },
     "execution_count": 19,
     "metadata": {},
     "output_type": "execute_result"
    }
   ],
   "source": [
    "revenue_df.groupby('Gender').describe()"
   ]
  },
  {
   "cell_type": "code",
   "execution_count": 20,
   "metadata": {},
   "outputs": [],
   "source": [
    "male_data=revenue_df[revenue_df['Gender']=='M']\n",
    "female_data=revenue_df[revenue_df['Gender']=='F']"
   ]
  },
  {
   "cell_type": "code",
   "execution_count": 21,
   "metadata": {},
   "outputs": [
    {
     "data": {
      "text/plain": [
       "MWU    0.000015\n",
       "Name: p-val, dtype: float64"
      ]
     },
     "execution_count": 21,
     "metadata": {},
     "output_type": "execute_result"
    }
   ],
   "source": [
    "mwu_test=pg.mwu(x=male_data['Revenue'],y=female_data['Revenue'])\n",
    "p_value=mwu_test['p-val']\n",
    "p_value"
   ]
  },
  {
   "cell_type": "markdown",
   "metadata": {},
   "source": [
    "The p-value lowet that 0.05 indicates that the default assumption (H0: there is no difference between the distributions of the data samples) is rejected and we can say the the difference in the means is significant."
   ]
  },
  {
   "cell_type": "markdown",
   "metadata": {},
   "source": [
    "#### Question 7\n",
    "- In which country is this difference biggest?"
   ]
  },
  {
   "cell_type": "code",
   "execution_count": 22,
   "metadata": {},
   "outputs": [
    {
     "data": {
      "text/html": [
       "<div>\n",
       "<style scoped>\n",
       "    .dataframe tbody tr th:only-of-type {\n",
       "        vertical-align: middle;\n",
       "    }\n",
       "\n",
       "    .dataframe tbody tr th {\n",
       "        vertical-align: top;\n",
       "    }\n",
       "\n",
       "    .dataframe thead tr th {\n",
       "        text-align: left;\n",
       "    }\n",
       "</style>\n",
       "<table border=\"1\" class=\"dataframe\">\n",
       "  <thead>\n",
       "    <tr>\n",
       "      <th></th>\n",
       "      <th>Country</th>\n",
       "      <th>Gender</th>\n",
       "      <th colspan=\"8\" halign=\"left\">Revenue</th>\n",
       "    </tr>\n",
       "    <tr>\n",
       "      <th></th>\n",
       "      <th></th>\n",
       "      <th></th>\n",
       "      <th>count</th>\n",
       "      <th>mean</th>\n",
       "      <th>std</th>\n",
       "      <th>min</th>\n",
       "      <th>25%</th>\n",
       "      <th>50%</th>\n",
       "      <th>75%</th>\n",
       "      <th>max</th>\n",
       "    </tr>\n",
       "  </thead>\n",
       "  <tbody>\n",
       "    <tr>\n",
       "      <th>0</th>\n",
       "      <td>DE</td>\n",
       "      <td>F</td>\n",
       "      <td>212.0</td>\n",
       "      <td>87.698019</td>\n",
       "      <td>165.910732</td>\n",
       "      <td>17.05</td>\n",
       "      <td>17.82</td>\n",
       "      <td>35.63</td>\n",
       "      <td>73.4950</td>\n",
       "      <td>1247.14</td>\n",
       "    </tr>\n",
       "    <tr>\n",
       "      <th>1</th>\n",
       "      <td>DE</td>\n",
       "      <td>M</td>\n",
       "      <td>911.0</td>\n",
       "      <td>110.190044</td>\n",
       "      <td>232.796125</td>\n",
       "      <td>17.05</td>\n",
       "      <td>17.82</td>\n",
       "      <td>35.63</td>\n",
       "      <td>89.0800</td>\n",
       "      <td>2859.51</td>\n",
       "    </tr>\n",
       "    <tr>\n",
       "      <th>2</th>\n",
       "      <td>FR</td>\n",
       "      <td>F</td>\n",
       "      <td>106.0</td>\n",
       "      <td>133.803396</td>\n",
       "      <td>195.276086</td>\n",
       "      <td>18.76</td>\n",
       "      <td>37.52</td>\n",
       "      <td>56.27</td>\n",
       "      <td>116.0675</td>\n",
       "      <td>1125.49</td>\n",
       "    </tr>\n",
       "    <tr>\n",
       "      <th>3</th>\n",
       "      <td>FR</td>\n",
       "      <td>M</td>\n",
       "      <td>521.0</td>\n",
       "      <td>169.612649</td>\n",
       "      <td>382.089176</td>\n",
       "      <td>17.05</td>\n",
       "      <td>28.14</td>\n",
       "      <td>56.27</td>\n",
       "      <td>187.5800</td>\n",
       "      <td>4258.11</td>\n",
       "    </tr>\n",
       "    <tr>\n",
       "      <th>4</th>\n",
       "      <td>GB</td>\n",
       "      <td>F</td>\n",
       "      <td>915.0</td>\n",
       "      <td>137.221082</td>\n",
       "      <td>486.828413</td>\n",
       "      <td>20.00</td>\n",
       "      <td>20.00</td>\n",
       "      <td>40.00</td>\n",
       "      <td>100.0000</td>\n",
       "      <td>10200.00</td>\n",
       "    </tr>\n",
       "    <tr>\n",
       "      <th>5</th>\n",
       "      <td>GB</td>\n",
       "      <td>M</td>\n",
       "      <td>2413.0</td>\n",
       "      <td>147.662370</td>\n",
       "      <td>429.776743</td>\n",
       "      <td>18.68</td>\n",
       "      <td>20.00</td>\n",
       "      <td>50.00</td>\n",
       "      <td>107.7300</td>\n",
       "      <td>11000.00</td>\n",
       "    </tr>\n",
       "    <tr>\n",
       "      <th>6</th>\n",
       "      <td>Other</td>\n",
       "      <td>F</td>\n",
       "      <td>222.0</td>\n",
       "      <td>63.176622</td>\n",
       "      <td>109.075265</td>\n",
       "      <td>11.23</td>\n",
       "      <td>17.05</td>\n",
       "      <td>25.58</td>\n",
       "      <td>66.3500</td>\n",
       "      <td>980.56</td>\n",
       "    </tr>\n",
       "    <tr>\n",
       "      <th>7</th>\n",
       "      <td>Other</td>\n",
       "      <td>M</td>\n",
       "      <td>733.0</td>\n",
       "      <td>104.133588</td>\n",
       "      <td>321.798850</td>\n",
       "      <td>11.23</td>\n",
       "      <td>17.05</td>\n",
       "      <td>25.58</td>\n",
       "      <td>83.5600</td>\n",
       "      <td>4263.30</td>\n",
       "    </tr>\n",
       "    <tr>\n",
       "      <th>8</th>\n",
       "      <td>US</td>\n",
       "      <td>F</td>\n",
       "      <td>314.0</td>\n",
       "      <td>85.753758</td>\n",
       "      <td>197.036888</td>\n",
       "      <td>17.05</td>\n",
       "      <td>17.05</td>\n",
       "      <td>34.11</td>\n",
       "      <td>75.6750</td>\n",
       "      <td>2174.28</td>\n",
       "    </tr>\n",
       "    <tr>\n",
       "      <th>9</th>\n",
       "      <td>US</td>\n",
       "      <td>M</td>\n",
       "      <td>998.0</td>\n",
       "      <td>143.903677</td>\n",
       "      <td>479.199368</td>\n",
       "      <td>17.05</td>\n",
       "      <td>21.32</td>\n",
       "      <td>42.63</td>\n",
       "      <td>93.7900</td>\n",
       "      <td>9805.59</td>\n",
       "    </tr>\n",
       "  </tbody>\n",
       "</table>\n",
       "</div>"
      ],
      "text/plain": [
       "  Country Gender Revenue                                               \\\n",
       "                   count        mean         std    min    25%    50%   \n",
       "0      DE      F   212.0   87.698019  165.910732  17.05  17.82  35.63   \n",
       "1      DE      M   911.0  110.190044  232.796125  17.05  17.82  35.63   \n",
       "2      FR      F   106.0  133.803396  195.276086  18.76  37.52  56.27   \n",
       "3      FR      M   521.0  169.612649  382.089176  17.05  28.14  56.27   \n",
       "4      GB      F   915.0  137.221082  486.828413  20.00  20.00  40.00   \n",
       "5      GB      M  2413.0  147.662370  429.776743  18.68  20.00  50.00   \n",
       "6   Other      F   222.0   63.176622  109.075265  11.23  17.05  25.58   \n",
       "7   Other      M   733.0  104.133588  321.798850  11.23  17.05  25.58   \n",
       "8      US      F   314.0   85.753758  197.036888  17.05  17.05  34.11   \n",
       "9      US      M   998.0  143.903677  479.199368  17.05  21.32  42.63   \n",
       "\n",
       "                       \n",
       "        75%       max  \n",
       "0   73.4950   1247.14  \n",
       "1   89.0800   2859.51  \n",
       "2  116.0675   1125.49  \n",
       "3  187.5800   4258.11  \n",
       "4  100.0000  10200.00  \n",
       "5  107.7300  11000.00  \n",
       "6   66.3500    980.56  \n",
       "7   83.5600   4263.30  \n",
       "8   75.6750   2174.28  \n",
       "9   93.7900   9805.59  "
      ]
     },
     "execution_count": 22,
     "metadata": {},
     "output_type": "execute_result"
    }
   ],
   "source": [
    "revenue_by_country=revenue_df.groupby(['Country','Gender']).describe()\n",
    "revenue_by_country.reset_index()"
   ]
  },
  {
   "cell_type": "code",
   "execution_count": 23,
   "metadata": {},
   "outputs": [
    {
     "data": {
      "text/html": [
       "<div>\n",
       "<style scoped>\n",
       "    .dataframe tbody tr th:only-of-type {\n",
       "        vertical-align: middle;\n",
       "    }\n",
       "\n",
       "    .dataframe tbody tr th {\n",
       "        vertical-align: top;\n",
       "    }\n",
       "\n",
       "    .dataframe thead th {\n",
       "        text-align: right;\n",
       "    }\n",
       "</style>\n",
       "<table border=\"1\" class=\"dataframe\">\n",
       "  <thead>\n",
       "    <tr style=\"text-align: right;\">\n",
       "      <th></th>\n",
       "      <th>F</th>\n",
       "      <th>M</th>\n",
       "      <th>Delta_avg_revenue</th>\n",
       "    </tr>\n",
       "    <tr>\n",
       "      <th>Country</th>\n",
       "      <th></th>\n",
       "      <th></th>\n",
       "      <th></th>\n",
       "    </tr>\n",
       "  </thead>\n",
       "  <tbody>\n",
       "    <tr>\n",
       "      <th>DE</th>\n",
       "      <td>87.698019</td>\n",
       "      <td>110.190044</td>\n",
       "      <td>22.492025</td>\n",
       "    </tr>\n",
       "    <tr>\n",
       "      <th>FR</th>\n",
       "      <td>133.803396</td>\n",
       "      <td>169.612649</td>\n",
       "      <td>35.809253</td>\n",
       "    </tr>\n",
       "    <tr>\n",
       "      <th>GB</th>\n",
       "      <td>137.221082</td>\n",
       "      <td>147.662370</td>\n",
       "      <td>10.441289</td>\n",
       "    </tr>\n",
       "    <tr>\n",
       "      <th>Other</th>\n",
       "      <td>63.176622</td>\n",
       "      <td>104.133588</td>\n",
       "      <td>40.956966</td>\n",
       "    </tr>\n",
       "    <tr>\n",
       "      <th>US</th>\n",
       "      <td>85.753758</td>\n",
       "      <td>143.903677</td>\n",
       "      <td>58.149919</td>\n",
       "    </tr>\n",
       "  </tbody>\n",
       "</table>\n",
       "</div>"
      ],
      "text/plain": [
       "                  F           M  Delta_avg_revenue\n",
       "Country                                           \n",
       "DE        87.698019  110.190044          22.492025\n",
       "FR       133.803396  169.612649          35.809253\n",
       "GB       137.221082  147.662370          10.441289\n",
       "Other     63.176622  104.133588          40.956966\n",
       "US        85.753758  143.903677          58.149919"
      ]
     },
     "execution_count": 23,
     "metadata": {},
     "output_type": "execute_result"
    }
   ],
   "source": [
    "table = pd.pivot_table(data=revenue_df,index=['Country'],columns=['Gender'],aggfunc={'Revenue':np.mean})\n",
    "table.columns = [col[1] for col in table.columns]\n",
    "table['Delta_avg_revenue']=table['M']-table['F']\n",
    "table"
   ]
  },
  {
   "cell_type": "markdown",
   "metadata": {},
   "source": [
    "As shown on the table above, the greatest difference in average revenue between's male and female users appears for the US, for revenue generated during the first 7 days."
   ]
  },
  {
   "cell_type": "markdown",
   "metadata": {},
   "source": [
    "#### Question 8\n",
    "- Please visualise the relationship between country, gender and week 1 revenue with an appropriate chart."
   ]
  },
  {
   "cell_type": "code",
   "execution_count": 24,
   "metadata": {},
   "outputs": [
    {
     "data": {
      "image/png": "[encoded data removed]",
      "text/plain": [
       "<Figure size 720x432 with 1 Axes>"
      ]
     },
     "metadata": {},
     "output_type": "display_data"
    }
   ],
   "source": [
    "plt.rcParams[\"figure.figsize\"] = [10, 6]\n",
    "revenue_by_country=revenue_df.groupby(['Country','Gender']).mean().plot(kind = \"barh\", label='index',edgecolor='black',color='#0504aa',alpha=0.7)\n",
    "plt.xlabel(\"Average Revenue -First week\",fontsize=15)\n",
    "plt.ylabel(\"Country, Gender\",fontsize=15)\n",
    "plt.xticks(fontsize=15)\n",
    "plt.yticks(fontsize=15)\n",
    "plt.grid(axis='x', alpha=0.75)"
   ]
  },
  {
   "cell_type": "markdown",
   "metadata": {},
   "source": [
    "This plot confirms that the difference between average revenue of males and females users is the greatest in the US."
   ]
  },
  {
   "cell_type": "markdown",
   "metadata": {},
   "source": [
    "#### Question 9\n",
    "- Build a linear regression model to predict the week 1 revenue of a user based on the following variables: Gender, Age, Country and day 1 revenue (ie the revenue generated by the user on their registration date). Which of these variables have a statistically significant predictive power according to this model?"
   ]
  },
  {
   "cell_type": "markdown",
   "metadata": {},
   "source": []
  },
  {
   "cell_type": "code",
   "execution_count": 25,
   "metadata": {},
   "outputs": [
    {
     "data": {
      "text/html": [
       "<div>\n",
       "<style scoped>\n",
       "    .dataframe tbody tr th:only-of-type {\n",
       "        vertical-align: middle;\n",
       "    }\n",
       "\n",
       "    .dataframe tbody tr th {\n",
       "        vertical-align: top;\n",
       "    }\n",
       "\n",
       "    .dataframe thead th {\n",
       "        text-align: right;\n",
       "    }\n",
       "</style>\n",
       "<table border=\"1\" class=\"dataframe\">\n",
       "  <thead>\n",
       "    <tr style=\"text-align: right;\">\n",
       "      <th></th>\n",
       "      <th>Gender</th>\n",
       "      <th>Age_at_reg</th>\n",
       "      <th>Country</th>\n",
       "      <th>First_day_revenue</th>\n",
       "      <th>First_week_revenue</th>\n",
       "    </tr>\n",
       "  </thead>\n",
       "  <tbody>\n",
       "    <tr>\n",
       "      <th>0</th>\n",
       "      <td>F</td>\n",
       "      <td>30</td>\n",
       "      <td>GB</td>\n",
       "      <td>0.00</td>\n",
       "      <td>20.00</td>\n",
       "    </tr>\n",
       "    <tr>\n",
       "      <th>1</th>\n",
       "      <td>M</td>\n",
       "      <td>38</td>\n",
       "      <td>Other</td>\n",
       "      <td>0.00</td>\n",
       "      <td>29.19</td>\n",
       "    </tr>\n",
       "    <tr>\n",
       "      <th>2</th>\n",
       "      <td>M</td>\n",
       "      <td>48</td>\n",
       "      <td>GB</td>\n",
       "      <td>0.00</td>\n",
       "      <td>20.00</td>\n",
       "    </tr>\n",
       "    <tr>\n",
       "      <th>3</th>\n",
       "      <td>F</td>\n",
       "      <td>30</td>\n",
       "      <td>US</td>\n",
       "      <td>0.00</td>\n",
       "      <td>17.05</td>\n",
       "    </tr>\n",
       "    <tr>\n",
       "      <th>4</th>\n",
       "      <td>M</td>\n",
       "      <td>49</td>\n",
       "      <td>GB</td>\n",
       "      <td>0.00</td>\n",
       "      <td>25.00</td>\n",
       "    </tr>\n",
       "    <tr>\n",
       "      <th>...</th>\n",
       "      <td>...</td>\n",
       "      <td>...</td>\n",
       "      <td>...</td>\n",
       "      <td>...</td>\n",
       "      <td>...</td>\n",
       "    </tr>\n",
       "    <tr>\n",
       "      <th>5084</th>\n",
       "      <td>M</td>\n",
       "      <td>49</td>\n",
       "      <td>FR</td>\n",
       "      <td>37.52</td>\n",
       "      <td>56.80</td>\n",
       "    </tr>\n",
       "    <tr>\n",
       "      <th>5085</th>\n",
       "      <td>F</td>\n",
       "      <td>35</td>\n",
       "      <td>GB</td>\n",
       "      <td>30.00</td>\n",
       "      <td>30.00</td>\n",
       "    </tr>\n",
       "    <tr>\n",
       "      <th>5086</th>\n",
       "      <td>M</td>\n",
       "      <td>29</td>\n",
       "      <td>GB</td>\n",
       "      <td>30.00</td>\n",
       "      <td>30.00</td>\n",
       "    </tr>\n",
       "    <tr>\n",
       "      <th>5087</th>\n",
       "      <td>F</td>\n",
       "      <td>21</td>\n",
       "      <td>US</td>\n",
       "      <td>17.05</td>\n",
       "      <td>17.05</td>\n",
       "    </tr>\n",
       "    <tr>\n",
       "      <th>5088</th>\n",
       "      <td>M</td>\n",
       "      <td>22</td>\n",
       "      <td>US</td>\n",
       "      <td>42.63</td>\n",
       "      <td>42.63</td>\n",
       "    </tr>\n",
       "  </tbody>\n",
       "</table>\n",
       "<p>5089 rows × 5 columns</p>\n",
       "</div>"
      ],
      "text/plain": [
       "     Gender  Age_at_reg Country  First_day_revenue  First_week_revenue\n",
       "0         F          30      GB               0.00               20.00\n",
       "1         M          38   Other               0.00               29.19\n",
       "2         M          48      GB               0.00               20.00\n",
       "3         F          30      US               0.00               17.05\n",
       "4         M          49      GB               0.00               25.00\n",
       "...     ...         ...     ...                ...                 ...\n",
       "5084      M          49      FR              37.52               56.80\n",
       "5085      F          35      GB              30.00               30.00\n",
       "5086      M          29      GB              30.00               30.00\n",
       "5087      F          21      US              17.05               17.05\n",
       "5088      M          22      US              42.63               42.63\n",
       "\n",
       "[5089 rows x 5 columns]"
      ]
     },
     "execution_count": 25,
     "metadata": {},
     "output_type": "execute_result"
    }
   ],
   "source": [
    "# Create dataframe with variables that will be used to fit regression model\n",
    "regression_df=pd.DataFrame()\n",
    "#Calculate Week 1 revenue for each UserId\n",
    "regression_df['First_week_revenue']=merged_df_first_week.groupby(['UserId'])['Revenue'].sum()\n",
    "\n",
    "#Calculate First revenue for each UserId\n",
    "regression_df['First_day_revenue']=(merged_df_first_week[merged_df_first_week['days_since_reg']==0]).groupby(['UserId'])['Revenue'].sum()\n",
    "\n",
    "#Users that did not generate revenue on their first day, are considered to having generated 0 units revenue.\n",
    "regression_df.replace(np.nan,0, inplace=True)\n",
    "regression_df.reset_index()\n",
    "\n",
    "#Create dataframe with UserId, Country, DOB and Gender and RegDate\n",
    "add_data_df=merged_df_first_week[['UserId','Country','DOB','Gender','RegDate']]\n",
    "#Create a column with the age at the registration day\n",
    "add_data_df[['DOB','RegDate']] = add_data_df[['DOB','RegDate']].apply(pd.to_datetime) \n",
    "add_data_df['Age_at_reg']=(((add_data_df['RegDate'] - add_data_df['DOB']).dt.days)/365).astype(int)\n",
    "add_data_df=add_data_df.drop_duplicates('UserId')\n",
    "\n",
    "#Merge regression_df with add_data_df to get Country, Gender and Age data\n",
    "regression_df = regression_df.merge(add_data_df,how=\"left\", on=['UserId'])\n",
    "regression_df=regression_df[['Gender','Age_at_reg','Country','First_day_revenue','First_week_revenue']]\n",
    "regression_df"
   ]
  },
  {
   "cell_type": "code",
   "execution_count": 26,
   "metadata": {},
   "outputs": [
    {
     "data": {
      "text/html": [
       "<div>\n",
       "<style scoped>\n",
       "    .dataframe tbody tr th:only-of-type {\n",
       "        vertical-align: middle;\n",
       "    }\n",
       "\n",
       "    .dataframe tbody tr th {\n",
       "        vertical-align: top;\n",
       "    }\n",
       "\n",
       "    .dataframe thead th {\n",
       "        text-align: right;\n",
       "    }\n",
       "</style>\n",
       "<table border=\"1\" class=\"dataframe\">\n",
       "  <thead>\n",
       "    <tr style=\"text-align: right;\">\n",
       "      <th></th>\n",
       "      <th>Coefficient</th>\n",
       "    </tr>\n",
       "  </thead>\n",
       "  <tbody>\n",
       "    <tr>\n",
       "      <th>Gender</th>\n",
       "      <td>1.123949</td>\n",
       "    </tr>\n",
       "    <tr>\n",
       "      <th>Age_at_reg</th>\n",
       "      <td>1.013736</td>\n",
       "    </tr>\n",
       "    <tr>\n",
       "      <th>Country</th>\n",
       "      <td>-0.092875</td>\n",
       "    </tr>\n",
       "    <tr>\n",
       "      <th>First_day_revenue</th>\n",
       "      <td>1.342086</td>\n",
       "    </tr>\n",
       "  </tbody>\n",
       "</table>\n",
       "</div>"
      ],
      "text/plain": [
       "                   Coefficient\n",
       "Gender                1.123949\n",
       "Age_at_reg            1.013736\n",
       "Country              -0.092875\n",
       "First_day_revenue     1.342086"
      ]
     },
     "execution_count": 26,
     "metadata": {},
     "output_type": "execute_result"
    }
   ],
   "source": [
    "#Convert Country and Gender variables from categorical to numerical code\n",
    "categories_country=regression_df['Country'].astype('category').cat.categories\n",
    "regression_df['Country']=regression_df['Country'].astype('category').cat.codes\n",
    "categories_gender=regression_df['Gender'].astype('category').cat.categories\n",
    "regression_df['Gender']=regression_df['Gender'].astype('category').cat.codes\n",
    "\n",
    "\n",
    "#Fit Linear regression model\n",
    "X=regression_df.drop('First_week_revenue',axis='columns')\n",
    "y=regression_df['First_week_revenue']\n",
    "\n",
    "lr = LinearRegression()\n",
    "lr.fit(X,y)\n",
    "\n",
    "#Retrieve variables coefficients\n",
    "coeff_parameter = pd.DataFrame(lr.coef_,X.columns,columns=['Coefficient'])\n",
    "coeff_parameter"
   ]
  },
  {
   "cell_type": "markdown",
   "metadata": {},
   "source": [
    "From coefficients above, we can see that the most significant variable for revenue in week 1 is how much the revenue on the first day was, followed by the gender."
   ]
  },
  {
   "cell_type": "markdown",
   "metadata": {},
   "source": [
    "#### Question 10\n",
    "- What revenues do you expect women from France, Germany and the UK to generate, assuming they are all aged 40 and all generated £20 on their registration day?"
   ]
  },
  {
   "cell_type": "code",
   "execution_count": 27,
   "metadata": {},
   "outputs": [
    {
     "name": "stdout",
     "output_type": "stream",
     "text": [
      "Index(['DE', 'FR', 'GB', 'Other', 'US'], dtype='object')\n",
      "Index(['F', 'M'], dtype='object')\n"
     ]
    }
   ],
   "source": [
    "print(categories_country)\n",
    "print(categories_gender)"
   ]
  },
  {
   "cell_type": "code",
   "execution_count": 43,
   "metadata": {},
   "outputs": [
    {
     "name": "stdout",
     "output_type": "stream",
     "text": [
      "First week revenue for a woman from France, aged 40 and that generated 20 pounds on her first day will be: 73.9.\n",
      "First week revenue for a woman from Germany, aged 40 and that generated 20 pounds on her first day will be: 74.0.\n",
      "First week revenue for a woman from the UK, aged 40 and that generated 20 pounds on her first day will be: 73.8\n"
     ]
    }
   ],
   "source": [
    "#Three vectors will be created, cointaining the Gender, Country and revenue on the first day\n",
    "woman_1=[0,40,1,20]\n",
    "woman_2=[0,40,0,20]\n",
    "woman_3=[0,40,2,20]\n",
    "\n",
    "revenue_woman1=lr.predict([woman_1])\n",
    "revenue_woman2=lr.predict([woman_2])\n",
    "revenue_woman3=lr.predict([woman_3])\n",
    "\n",
    "print(f'First week revenue for a woman from France, aged 40 and that generated 20 pounds on her first day will be: {revenue_woman1[0].round(1)}.\\nFirst week revenue for a woman from Germany, aged 40 and that generated 20 pounds on her first day will be: {revenue_woman2[0].round(1)}.\\nFirst week revenue for a woman from the UK, aged 40 and that generated 20 pounds on her first day will be: {revenue_woman3[0].round(1)}')"
   ]
  },
  {
   "cell_type": "markdown",
   "metadata": {},
   "source": [
    "We can see that the First week revenue is very similar for all three women, which makes sense given that the variables that have the highest influence on First Week Revenue stay the same for all three of them"
   ]
  }
 ],
 "metadata": {
  "kernelspec": {
   "display_name": "Python 3",
   "language": "python",
   "name": "python3"
  },
  "language_info": {
   "codemirror_mode": {
    "name": "ipython",
    "version": 3
   },
   "file_extension": ".py",
   "mimetype": "text/x-python",
   "name": "python",
   "nbconvert_exporter": "python",
   "pygments_lexer": "ipython3",
   "version": "3.8.5"
  }
 },
 "nbformat": 4,
 "nbformat_minor": 4
}
